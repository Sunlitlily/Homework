{
 "cells": [
  {
   "cell_type": "code",
   "execution_count": 62,
   "id": "171fa9e6",
   "metadata": {},
   "outputs": [
    {
     "name": "stdout",
     "output_type": "stream",
     "text": [
      "[6, 0]\n"
     ]
    }
   ],
   "source": [
    "m = []\n",
    "def permutations(word, last_symbol = 0):\n",
    "    if last_symbol == len(word)-1:\n",
    "        global m\n",
    "        m.append(''.join(word))\n",
    "    for i in range (last_symbol, len(word)):\n",
    "        new = word[last_symbol]\n",
    "        word[last_symbol] = word[i]\n",
    "        word[i] = new\n",
    "        permutations(word, last_symbol + 1)\n",
    "        new = word[last_symbol]\n",
    "        word[last_symbol] = word[i]\n",
    "        word[i] = new\n",
    "    return m\n",
    "\n",
    "def find_anagramm(s, p):\n",
    "    indexes = []\n",
    "    p = list(p.lower())\n",
    "    anagramms = permutations(p)\n",
    "    for an in anagramms:\n",
    "        if an in s:\n",
    "            k = s.index(an)\n",
    "            indexes.append(k)\n",
    "    return indexes\n",
    "\n",
    "s = \"cbaebabacd\"\n",
    "p = \"abc\"\n",
    "print(find_anagramm(s, p))"
   ]
  },
  {
   "cell_type": "code",
   "execution_count": null,
   "id": "2dd05e55",
   "metadata": {},
   "outputs": [],
   "source": []
  },
  {
   "cell_type": "code",
   "execution_count": null,
   "id": "9346a24b",
   "metadata": {},
   "outputs": [],
   "source": []
  },
  {
   "cell_type": "code",
   "execution_count": null,
   "id": "4d0965a1",
   "metadata": {},
   "outputs": [],
   "source": []
  }
 ],
 "metadata": {
  "kernelspec": {
   "display_name": "Python 3",
   "language": "python",
   "name": "python3"
  },
  "language_info": {
   "codemirror_mode": {
    "name": "ipython",
    "version": 3
   },
   "file_extension": ".py",
   "mimetype": "text/x-python",
   "name": "python",
   "nbconvert_exporter": "python",
   "pygments_lexer": "ipython3",
   "version": "3.8.8"
  }
 },
 "nbformat": 4,
 "nbformat_minor": 5
}
